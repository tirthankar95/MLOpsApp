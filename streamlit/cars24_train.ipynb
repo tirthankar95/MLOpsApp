{
 "cells": [
  {
   "cell_type": "code",
   "execution_count": 16,
   "metadata": {},
   "outputs": [],
   "source": [
    "import pandas as pd \n",
    "import pickle as pkl \n",
    "import json \n",
    "from sklearn.model_selection import train_test_split\n",
    "from sklearn.metrics import mean_absolute_error\n",
    "from sklearn.preprocessing import StandardScaler\n",
    "from sklearn.linear_model import LinearRegression, Ridge"
   ]
  },
  {
   "cell_type": "code",
   "execution_count": 17,
   "metadata": {},
   "outputs": [
    {
     "name": "stdout",
     "output_type": "stream",
     "text": [
      "total 508K\n",
      "drwxr-xr-x 7 tirthankar-mittra tirthankar-mittra   4K Feb 20 21:07 streamlit\n",
      "-rw-r--r-- 1 tirthankar-mittra tirthankar-mittra 445K Feb 21 00:45 Cars24.csv\n",
      "drwxr-xr-x 2 tirthankar-mittra tirthankar-mittra   4K Feb 21 10:49 checkpoint\n",
      "-rw-r--r-- 1 tirthankar-mittra tirthankar-mittra   1K Feb 21 10:52 app_stock_price.py\n",
      "-rw-r--r-- 1 tirthankar-mittra tirthankar-mittra   1K Feb 21 12:37 app_hello.py\n",
      "-rw-r--r-- 1 tirthankar-mittra tirthankar-mittra   1K Feb 21 12:46 requirements.txt\n",
      "-rw-r--r-- 1 tirthankar-mittra tirthankar-mittra   1K Feb 21 13:08 README.md\n",
      "-rw-r--r-- 1 tirthankar-mittra tirthankar-mittra   2K Feb 21 20:26 app_cars24_price.py\n",
      "-rw-r--r-- 1 tirthankar-mittra tirthankar-mittra  29K Feb 21 20:31 cars24_train.ipynb\n"
     ]
    }
   ],
   "source": [
    "!ls -lrt --block-size=K"
   ]
  },
  {
   "cell_type": "code",
   "execution_count": 18,
   "metadata": {},
   "outputs": [],
   "source": [
    "df = pd.read_csv(\"Cars24.csv\")"
   ]
  },
  {
   "cell_type": "code",
   "execution_count": 19,
   "metadata": {},
   "outputs": [
    {
     "data": {
      "text/html": [
       "<div>\n",
       "<style scoped>\n",
       "    .dataframe tbody tr th:only-of-type {\n",
       "        vertical-align: middle;\n",
       "    }\n",
       "\n",
       "    .dataframe tbody tr th {\n",
       "        vertical-align: top;\n",
       "    }\n",
       "\n",
       "    .dataframe thead th {\n",
       "        text-align: right;\n",
       "    }\n",
       "</style>\n",
       "<table border=\"1\" class=\"dataframe\">\n",
       "  <thead>\n",
       "    <tr style=\"text-align: right;\">\n",
       "      <th></th>\n",
       "      <th>Model Year</th>\n",
       "      <th>Driven (Kms)</th>\n",
       "      <th>Ownership</th>\n",
       "    </tr>\n",
       "  </thead>\n",
       "  <tbody>\n",
       "    <tr>\n",
       "      <th>count</th>\n",
       "      <td>5918.000000</td>\n",
       "      <td>5918.000000</td>\n",
       "      <td>5918.000000</td>\n",
       "    </tr>\n",
       "    <tr>\n",
       "      <th>mean</th>\n",
       "      <td>2014.547651</td>\n",
       "      <td>60842.778979</td>\n",
       "      <td>1.285738</td>\n",
       "    </tr>\n",
       "    <tr>\n",
       "      <th>std</th>\n",
       "      <td>2.905185</td>\n",
       "      <td>42362.990292</td>\n",
       "      <td>0.532820</td>\n",
       "    </tr>\n",
       "    <tr>\n",
       "      <th>min</th>\n",
       "      <td>2007.000000</td>\n",
       "      <td>179.000000</td>\n",
       "      <td>1.000000</td>\n",
       "    </tr>\n",
       "    <tr>\n",
       "      <th>25%</th>\n",
       "      <td>2012.000000</td>\n",
       "      <td>30856.000000</td>\n",
       "      <td>1.000000</td>\n",
       "    </tr>\n",
       "    <tr>\n",
       "      <th>50%</th>\n",
       "      <td>2015.000000</td>\n",
       "      <td>53514.000000</td>\n",
       "      <td>1.000000</td>\n",
       "    </tr>\n",
       "    <tr>\n",
       "      <th>75%</th>\n",
       "      <td>2017.000000</td>\n",
       "      <td>81979.250000</td>\n",
       "      <td>1.000000</td>\n",
       "    </tr>\n",
       "    <tr>\n",
       "      <th>max</th>\n",
       "      <td>2021.000000</td>\n",
       "      <td>912380.000000</td>\n",
       "      <td>4.000000</td>\n",
       "    </tr>\n",
       "  </tbody>\n",
       "</table>\n",
       "</div>"
      ],
      "text/plain": [
       "        Model Year   Driven (Kms)    Ownership\n",
       "count  5918.000000    5918.000000  5918.000000\n",
       "mean   2014.547651   60842.778979     1.285738\n",
       "std       2.905185   42362.990292     0.532820\n",
       "min    2007.000000     179.000000     1.000000\n",
       "25%    2012.000000   30856.000000     1.000000\n",
       "50%    2015.000000   53514.000000     1.000000\n",
       "75%    2017.000000   81979.250000     1.000000\n",
       "max    2021.000000  912380.000000     4.000000"
      ]
     },
     "execution_count": 19,
     "metadata": {},
     "output_type": "execute_result"
    }
   ],
   "source": [
    "df[['Model Year', 'Driven (Kms)', 'Ownership']].describe()"
   ]
  },
  {
   "cell_type": "code",
   "execution_count": 20,
   "metadata": {},
   "outputs": [
    {
     "data": {
      "text/html": [
       "<div>\n",
       "<style scoped>\n",
       "    .dataframe tbody tr th:only-of-type {\n",
       "        vertical-align: middle;\n",
       "    }\n",
       "\n",
       "    .dataframe tbody tr th {\n",
       "        vertical-align: top;\n",
       "    }\n",
       "\n",
       "    .dataframe thead th {\n",
       "        text-align: right;\n",
       "    }\n",
       "</style>\n",
       "<table border=\"1\" class=\"dataframe\">\n",
       "  <thead>\n",
       "    <tr style=\"text-align: right;\">\n",
       "      <th></th>\n",
       "      <th>0</th>\n",
       "      <th>1</th>\n",
       "      <th>2</th>\n",
       "      <th>3</th>\n",
       "      <th>4</th>\n",
       "    </tr>\n",
       "  </thead>\n",
       "  <tbody>\n",
       "    <tr>\n",
       "      <th>Unnamed: 0</th>\n",
       "      <td>0</td>\n",
       "      <td>1</td>\n",
       "      <td>2</td>\n",
       "      <td>3</td>\n",
       "      <td>4</td>\n",
       "    </tr>\n",
       "    <tr>\n",
       "      <th>Car Brand</th>\n",
       "      <td>Hyundai</td>\n",
       "      <td>Maruti</td>\n",
       "      <td>Maruti</td>\n",
       "      <td>Maruti</td>\n",
       "      <td>Tata</td>\n",
       "    </tr>\n",
       "    <tr>\n",
       "      <th>Model</th>\n",
       "      <td>EonERA PLUS</td>\n",
       "      <td>Wagon R 1.0LXI</td>\n",
       "      <td>Alto K10LXI</td>\n",
       "      <td>RitzVXI BS IV</td>\n",
       "      <td>NanoTWIST XTA</td>\n",
       "    </tr>\n",
       "    <tr>\n",
       "      <th>Price</th>\n",
       "      <td>330399</td>\n",
       "      <td>350199</td>\n",
       "      <td>229199</td>\n",
       "      <td>306399</td>\n",
       "      <td>208699</td>\n",
       "    </tr>\n",
       "    <tr>\n",
       "      <th>Model Year</th>\n",
       "      <td>2016</td>\n",
       "      <td>2011</td>\n",
       "      <td>2011</td>\n",
       "      <td>2011</td>\n",
       "      <td>2015</td>\n",
       "    </tr>\n",
       "    <tr>\n",
       "      <th>Location</th>\n",
       "      <td>Hyderabad</td>\n",
       "      <td>Hyderabad</td>\n",
       "      <td>Hyderabad</td>\n",
       "      <td>Hyderabad</td>\n",
       "      <td>Hyderabad</td>\n",
       "    </tr>\n",
       "    <tr>\n",
       "      <th>Fuel</th>\n",
       "      <td>Petrol</td>\n",
       "      <td>Petrol</td>\n",
       "      <td>Petrol</td>\n",
       "      <td>Petrol</td>\n",
       "      <td>Petrol</td>\n",
       "    </tr>\n",
       "    <tr>\n",
       "      <th>Driven (Kms)</th>\n",
       "      <td>10674</td>\n",
       "      <td>20979</td>\n",
       "      <td>47330</td>\n",
       "      <td>19662</td>\n",
       "      <td>11256</td>\n",
       "    </tr>\n",
       "    <tr>\n",
       "      <th>Gear</th>\n",
       "      <td>Manual</td>\n",
       "      <td>Manual</td>\n",
       "      <td>Manual</td>\n",
       "      <td>Manual</td>\n",
       "      <td>Automatic</td>\n",
       "    </tr>\n",
       "    <tr>\n",
       "      <th>Ownership</th>\n",
       "      <td>2</td>\n",
       "      <td>1</td>\n",
       "      <td>2</td>\n",
       "      <td>1</td>\n",
       "      <td>1</td>\n",
       "    </tr>\n",
       "    <tr>\n",
       "      <th>EMI (monthly)</th>\n",
       "      <td>7350</td>\n",
       "      <td>7790</td>\n",
       "      <td>5098</td>\n",
       "      <td>6816</td>\n",
       "      <td>4642</td>\n",
       "    </tr>\n",
       "  </tbody>\n",
       "</table>\n",
       "</div>"
      ],
      "text/plain": [
       "                         0               1            2              3  \\\n",
       "Unnamed: 0               0               1            2              3   \n",
       "Car Brand          Hyundai          Maruti       Maruti         Maruti   \n",
       "Model          EonERA PLUS  Wagon R 1.0LXI  Alto K10LXI  RitzVXI BS IV   \n",
       "Price               330399          350199       229199         306399   \n",
       "Model Year            2016            2011         2011           2011   \n",
       "Location         Hyderabad       Hyderabad    Hyderabad      Hyderabad   \n",
       "Fuel                Petrol          Petrol       Petrol         Petrol   \n",
       "Driven (Kms)         10674           20979        47330          19662   \n",
       "Gear                Manual          Manual       Manual         Manual   \n",
       "Ownership                2               1            2              1   \n",
       "EMI (monthly)         7350            7790         5098           6816   \n",
       "\n",
       "                           4  \n",
       "Unnamed: 0                 4  \n",
       "Car Brand               Tata  \n",
       "Model          NanoTWIST XTA  \n",
       "Price                 208699  \n",
       "Model Year              2015  \n",
       "Location           Hyderabad  \n",
       "Fuel                  Petrol  \n",
       "Driven (Kms)           11256  \n",
       "Gear               Automatic  \n",
       "Ownership                  1  \n",
       "EMI (monthly)           4642  "
      ]
     },
     "execution_count": 20,
     "metadata": {},
     "output_type": "execute_result"
    }
   ],
   "source": [
    "df.head().T"
   ]
  },
  {
   "cell_type": "code",
   "execution_count": 21,
   "metadata": {},
   "outputs": [
    {
     "data": {
      "text/plain": [
       "(Unnamed: 0         0\n",
       " Car Brand          0\n",
       " Model            265\n",
       " Price              0\n",
       " Model Year         0\n",
       " Location           0\n",
       " Fuel               0\n",
       " Driven (Kms)       0\n",
       " Gear             265\n",
       " Ownership          0\n",
       " EMI (monthly)      0\n",
       " dtype: int64,\n",
       " (5918, 11))"
      ]
     },
     "execution_count": 21,
     "metadata": {},
     "output_type": "execute_result"
    }
   ],
   "source": [
    "df.isna().sum(), df.shape"
   ]
  },
  {
   "cell_type": "code",
   "execution_count": 22,
   "metadata": {},
   "outputs": [
    {
     "data": {
      "text/plain": [
       "(Unnamed: 0       0\n",
       " Car Brand        0\n",
       " Model            0\n",
       " Price            0\n",
       " Model Year       0\n",
       " Location         0\n",
       " Fuel             0\n",
       " Driven (Kms)     0\n",
       " Gear             0\n",
       " Ownership        0\n",
       " EMI (monthly)    0\n",
       " dtype: int64,\n",
       " (5653, 11))"
      ]
     },
     "execution_count": 22,
     "metadata": {},
     "output_type": "execute_result"
    }
   ],
   "source": [
    "df.dropna(inplace  = True)\n",
    "df.isna().sum(), df.shape"
   ]
  },
  {
   "cell_type": "code",
   "execution_count": 23,
   "metadata": {},
   "outputs": [
    {
     "name": "stdout",
     "output_type": "stream",
     "text": [
      "<class 'pandas.core.frame.DataFrame'>\n",
      "Index: 5653 entries, 0 to 5917\n",
      "Data columns (total 11 columns):\n",
      " #   Column         Non-Null Count  Dtype \n",
      "---  ------         --------------  ----- \n",
      " 0   Unnamed: 0     5653 non-null   int64 \n",
      " 1   Car Brand      5653 non-null   object\n",
      " 2   Model          5653 non-null   object\n",
      " 3   Price          5653 non-null   int64 \n",
      " 4   Model Year     5653 non-null   int64 \n",
      " 5   Location       5653 non-null   object\n",
      " 6   Fuel           5653 non-null   object\n",
      " 7   Driven (Kms)   5653 non-null   int64 \n",
      " 8   Gear           5653 non-null   object\n",
      " 9   Ownership      5653 non-null   int64 \n",
      " 10  EMI (monthly)  5653 non-null   int64 \n",
      "dtypes: int64(6), object(5)\n",
      "memory usage: 530.0+ KB\n"
     ]
    }
   ],
   "source": [
    "df.info()"
   ]
  },
  {
   "cell_type": "code",
   "execution_count": 24,
   "metadata": {},
   "outputs": [
    {
     "name": "stdout",
     "output_type": "stream",
     "text": [
      "['Car Brand', 'Model', 'Location', 'Fuel', 'Gear'] ['Price', 'Model Year', 'Driven (Kms)', 'Ownership', 'EMI (monthly)']\n"
     ]
    }
   ],
   "source": [
    "try:\n",
    "    df.drop(columns = [\"Unnamed: 0\"], inplace = True, axis = 1)\n",
    "except Exception as e:\n",
    "    print('Already deleted!!')\n",
    "categorical, numerical = [], []\n",
    "for column in df.columns:\n",
    "    if df[column].dtype == \"object\":\n",
    "        categorical.append(column)\n",
    "    else:\n",
    "        numerical.append(column)\n",
    "\n",
    "print(categorical, numerical)"
   ]
  },
  {
   "cell_type": "code",
   "execution_count": 25,
   "metadata": {},
   "outputs": [
    {
     "name": "stdout",
     "output_type": "stream",
     "text": [
      "ColName[Car Brand]: Nuniq[26]\n",
      "ColName[Model]: Nuniq[902]\n",
      "ColName[Location]: Nuniq[5]\n",
      "ColName[Fuel]: Nuniq[5]\n",
      "ColName[Gear]: Nuniq[2]\n"
     ]
    }
   ],
   "source": [
    "for col in categorical:\n",
    "    print(f'ColName[{col}]: Nuniq[{df[col].nunique()}]')"
   ]
  },
  {
   "cell_type": "code",
   "execution_count": 26,
   "metadata": {},
   "outputs": [],
   "source": [
    "features = [\"Car Brand\", \"Fuel\", \"Gear\", \\\n",
    "            \"Model Year\", \"Driven (Kms)\", \\\n",
    "            \"Ownership\", \"Price\"]\n",
    "mappings = {}\n",
    "for feature in features:\n",
    "    if df[feature].dtype == \"object\":\n",
    "        df_sub = df[feature].value_counts()\\\n",
    "                            .reset_index()\\\n",
    "                            .rename(columns={\"count\": \"rank\"})\n",
    "        \n",
    "        df_sub[\"rank\"] = df_sub.index \n",
    "        mapping = {}\n",
    "        for index, row in df_sub.iterrows():\n",
    "            mapping[row.iloc[0]] = row.iloc[1]\n",
    "        mappings[feature] = mapping "
   ]
  },
  {
   "cell_type": "code",
   "execution_count": 27,
   "metadata": {},
   "outputs": [],
   "source": [
    "df_new = df[features].copy()\n",
    "for k, v in mappings.items():\n",
    "    df_new[k] = df_new[k].map(v)"
   ]
  },
  {
   "cell_type": "code",
   "execution_count": 28,
   "metadata": {},
   "outputs": [],
   "source": [
    "X, Y = df_new.drop(columns = [\"Price\"]), df_new[\"Price\"]\n",
    "X_train, X_test, Y_train, Y_test = train_test_split(X, Y, shuffle = True,\\\n",
    "                                                    test_size = 0.1)"
   ]
  },
  {
   "cell_type": "code",
   "execution_count": 29,
   "metadata": {},
   "outputs": [
    {
     "data": {
      "text/plain": [
       "Index(['Car Brand', 'Fuel', 'Gear', 'Model Year', 'Driven (Kms)', 'Ownership'], dtype='object')"
      ]
     },
     "execution_count": 29,
     "metadata": {},
     "output_type": "execute_result"
    }
   ],
   "source": [
    "X_train.columns"
   ]
  },
  {
   "cell_type": "code",
   "execution_count": 30,
   "metadata": {},
   "outputs": [],
   "source": [
    "scaler = StandardScaler()\n",
    "scaler.fit(X_train)\n",
    "X_train = scaler.transform(X_train)\n",
    "X_test = scaler.transform(X_test)"
   ]
  },
  {
   "cell_type": "code",
   "execution_count": 31,
   "metadata": {},
   "outputs": [
    {
     "data": {
      "text/html": [
       "<div>\n",
       "<style scoped>\n",
       "    .dataframe tbody tr th:only-of-type {\n",
       "        vertical-align: middle;\n",
       "    }\n",
       "\n",
       "    .dataframe tbody tr th {\n",
       "        vertical-align: top;\n",
       "    }\n",
       "\n",
       "    .dataframe thead th {\n",
       "        text-align: right;\n",
       "    }\n",
       "</style>\n",
       "<table border=\"1\" class=\"dataframe\">\n",
       "  <thead>\n",
       "    <tr style=\"text-align: right;\">\n",
       "      <th></th>\n",
       "      <th>0</th>\n",
       "      <th>1</th>\n",
       "      <th>2</th>\n",
       "      <th>3</th>\n",
       "      <th>4</th>\n",
       "    </tr>\n",
       "  </thead>\n",
       "  <tbody>\n",
       "    <tr>\n",
       "      <th>Car Brand</th>\n",
       "      <td>0.045943</td>\n",
       "      <td>-0.259962</td>\n",
       "      <td>-0.565867</td>\n",
       "      <td>-0.565867</td>\n",
       "      <td>-0.565867</td>\n",
       "    </tr>\n",
       "    <tr>\n",
       "      <th>Fuel</th>\n",
       "      <td>1.079620</td>\n",
       "      <td>1.079620</td>\n",
       "      <td>-0.702927</td>\n",
       "      <td>-0.702927</td>\n",
       "      <td>-0.702927</td>\n",
       "    </tr>\n",
       "    <tr>\n",
       "      <th>Gear</th>\n",
       "      <td>-0.337070</td>\n",
       "      <td>-0.337070</td>\n",
       "      <td>-0.337070</td>\n",
       "      <td>-0.337070</td>\n",
       "      <td>-0.337070</td>\n",
       "    </tr>\n",
       "    <tr>\n",
       "      <th>Model Year</th>\n",
       "      <td>1.230392</td>\n",
       "      <td>0.188440</td>\n",
       "      <td>1.230392</td>\n",
       "      <td>-0.853511</td>\n",
       "      <td>-0.158877</td>\n",
       "    </tr>\n",
       "    <tr>\n",
       "      <th>Driven (Kms)</th>\n",
       "      <td>-0.532841</td>\n",
       "      <td>0.386415</td>\n",
       "      <td>-0.908232</td>\n",
       "      <td>-1.180704</td>\n",
       "      <td>-0.248833</td>\n",
       "    </tr>\n",
       "    <tr>\n",
       "      <th>Ownership</th>\n",
       "      <td>-0.543193</td>\n",
       "      <td>1.335273</td>\n",
       "      <td>-0.543193</td>\n",
       "      <td>-0.543193</td>\n",
       "      <td>-0.543193</td>\n",
       "    </tr>\n",
       "  </tbody>\n",
       "</table>\n",
       "</div>"
      ],
      "text/plain": [
       "                     0         1         2         3         4\n",
       "Car Brand     0.045943 -0.259962 -0.565867 -0.565867 -0.565867\n",
       "Fuel          1.079620  1.079620 -0.702927 -0.702927 -0.702927\n",
       "Gear         -0.337070 -0.337070 -0.337070 -0.337070 -0.337070\n",
       "Model Year    1.230392  0.188440  1.230392 -0.853511 -0.158877\n",
       "Driven (Kms) -0.532841  0.386415 -0.908232 -1.180704 -0.248833\n",
       "Ownership    -0.543193  1.335273 -0.543193 -0.543193 -0.543193"
      ]
     },
     "execution_count": 31,
     "metadata": {},
     "output_type": "execute_result"
    }
   ],
   "source": [
    "X_train = pd.DataFrame(X_train, columns = features[:-1])\n",
    "X_test = pd.DataFrame(X_test, columns = features[:-1])\n",
    "\n",
    "X_train.head().T"
   ]
  },
  {
   "cell_type": "code",
   "execution_count": 32,
   "metadata": {},
   "outputs": [
    {
     "data": {
      "text/plain": [
       "148418.5123543139"
      ]
     },
     "execution_count": 32,
     "metadata": {},
     "output_type": "execute_result"
    }
   ],
   "source": [
    "model = LinearRegression()\n",
    "model.fit(X_train, Y_train)\n",
    "Y_pred = model.predict(X_train)\n",
    "mean_absolute_error(Y_pred, Y_train)"
   ]
  },
  {
   "cell_type": "code",
   "execution_count": 33,
   "metadata": {},
   "outputs": [
    {
     "data": {
      "text/plain": [
       "(array([ 78961.50201624,  54549.44246194,  80164.8483803 , 139118.64808597,\n",
       "          9948.42107974,   2392.43639549]),\n",
       " np.float64(507321.4505602566))"
      ]
     },
     "execution_count": 33,
     "metadata": {},
     "output_type": "execute_result"
    }
   ],
   "source": [
    "model.coef_, model.intercept_"
   ]
  },
  {
   "cell_type": "markdown",
   "metadata": {},
   "source": [
    "## TRAIN ERROR"
   ]
  },
  {
   "cell_type": "code",
   "execution_count": 34,
   "metadata": {},
   "outputs": [
    {
     "data": {
      "text/plain": [
       "146751.99895145994"
      ]
     },
     "execution_count": 34,
     "metadata": {},
     "output_type": "execute_result"
    }
   ],
   "source": [
    "model = Ridge(alpha = 1e3)\n",
    "model.fit(X_train, Y_train)\n",
    "Y_pred = model.predict(X_train)\n",
    "mean_absolute_error(Y_pred, Y_train)"
   ]
  },
  {
   "cell_type": "code",
   "execution_count": 35,
   "metadata": {},
   "outputs": [
    {
     "data": {
      "text/plain": [
       "(array([ 69714.40431607,  48856.58584722,  70790.29255134, 113973.53652509,\n",
       "          2073.14242633,  -2057.3976504 ]),\n",
       " np.float64(507321.45056025573))"
      ]
     },
     "execution_count": 35,
     "metadata": {},
     "output_type": "execute_result"
    }
   ],
   "source": [
    "model.coef_, model.intercept_"
   ]
  },
  {
   "cell_type": "markdown",
   "metadata": {},
   "source": [
    "## TEST ERROR"
   ]
  },
  {
   "cell_type": "code",
   "execution_count": 36,
   "metadata": {},
   "outputs": [
    {
     "data": {
      "text/plain": [
       "134815.9002671979"
      ]
     },
     "execution_count": 36,
     "metadata": {},
     "output_type": "execute_result"
    }
   ],
   "source": [
    "Y_pred_test = model.predict(X_test)\n",
    "mean_absolute_error(Y_pred_test, Y_test)"
   ]
  },
  {
   "cell_type": "code",
   "execution_count": 37,
   "metadata": {},
   "outputs": [
    {
     "name": "stdout",
     "output_type": "stream",
     "text": [
      "/home/tirthankar-mittra/StreamlitApp/checkpoint\n"
     ]
    },
    {
     "name": "stderr",
     "output_type": "stream",
     "text": [
      "/home/tirthankar-mittra/StreamlitApp/streamlit/lib/python3.12/site-packages/IPython/core/magics/osm.py:417: UserWarning: This is now an optional IPython functionality, setting dhist requires you to install the `pickleshare` library.\n",
      "  self.shell.db['dhist'] = compress_dhist(dhist)[-100:]\n"
     ]
    }
   ],
   "source": [
    "%cd checkpoint"
   ]
  },
  {
   "cell_type": "code",
   "execution_count": 38,
   "metadata": {},
   "outputs": [],
   "source": [
    "with open(\"model.pkl\", \"wb\") as fm:\n",
    "    pkl.dump(model, fm)\n",
    "\n",
    "with open(\"scaler.pkl\", \"wb\") as fs:\n",
    "    pkl.dump(scaler, fs)\n",
    "\n",
    "with open(\"feature_map.json\", \"w\") as ff:\n",
    "    json.dump(mappings, ff)\n",
    "\n",
    "with open(\"default_values.json\", \"w\") as fd:\n",
    "    json.dump(df_new.median().to_dict(), fd)"
   ]
  }
 ],
 "metadata": {
  "kernelspec": {
   "display_name": "Python 3 (ipykernel)",
   "language": "python",
   "name": "python3"
  },
  "language_info": {
   "codemirror_mode": {
    "name": "ipython",
    "version": 3
   },
   "file_extension": ".py",
   "mimetype": "text/x-python",
   "name": "python",
   "nbconvert_exporter": "python",
   "pygments_lexer": "ipython3",
   "version": "3.12.3"
  }
 },
 "nbformat": 4,
 "nbformat_minor": 4
}
